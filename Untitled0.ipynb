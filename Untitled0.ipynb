{
  "nbformat": 4,
  "nbformat_minor": 0,
  "metadata": {
    "colab": {
      "provenance": [],
      "authorship_tag": "ABX9TyOyeEEZ6DwrVgyQsCeWnBMC",
      "include_colab_link": true
    },
    "kernelspec": {
      "name": "python3",
      "display_name": "Python 3"
    },
    "language_info": {
      "name": "python"
    }
  },
  "cells": [
    {
      "cell_type": "markdown",
      "metadata": {
        "id": "view-in-github",
        "colab_type": "text"
      },
      "source": [
        "<a href=\"https://colab.research.google.com/github/Girish209/Girish_51_AIML/blob/main/Untitled0.ipynb\" target=\"_parent\"><img src=\"https://colab.research.google.com/assets/colab-badge.svg\" alt=\"Open In Colab\"/></a>"
      ]
    },
    {
      "cell_type": "code",
      "execution_count": 3,
      "metadata": {
        "colab": {
          "base_uri": "https://localhost:8080/"
        },
        "id": "WotPhgaOaH62",
        "outputId": "a0e5225b-262b-4aef-f879-a4f81d8549de"
      },
      "outputs": [
        {
          "output_type": "stream",
          "name": "stdout",
          "text": [
            "Enter a number..10\n",
            "10\n",
            "20\n",
            "30\n",
            "40\n",
            "50\n",
            "60\n",
            "70\n",
            "80\n",
            "90\n",
            "100\n"
          ]
        }
      ],
      "source": [
        "list=[1,2,3,4,5,6,7,8,9,10]\n",
        "n=int(input(\"Enter a number..\"))\n",
        "for i in list:\n",
        "  c=n*i\n",
        "  print(c)"
      ]
    },
    {
      "cell_type": "code",
      "source": [
        "list=[12,24,34,45,56,67,78,89,90]\n",
        "s=0\n",
        "for i in list:\n",
        "  s=s+i\n",
        "print(\"The result is:\",s)"
      ],
      "metadata": {
        "colab": {
          "base_uri": "https://localhost:8080/"
        },
        "id": "rM9asU4Fd7Ac",
        "outputId": "ef1d19a0-c158-492f-971c-ac32e4658e10"
      },
      "execution_count": 16,
      "outputs": [
        {
          "output_type": "stream",
          "name": "stdout",
          "text": [
            "The result is: 495\n"
          ]
        }
      ]
    },
    {
      "cell_type": "code",
      "source": [
        "#using range function in for loop\n",
        "for i in range(10):\n",
        "  print(i,end=\" \")"
      ],
      "metadata": {
        "colab": {
          "base_uri": "https://localhost:8080/"
        },
        "id": "Eg-veWgPgKo6",
        "outputId": "8ff7f8c1-bbe1-41c2-ec6a-1a6f78653a7e"
      },
      "execution_count": 19,
      "outputs": [
        {
          "output_type": "stream",
          "name": "stdout",
          "text": [
            "0 1 2 3 4 5 6 7 8 9 "
          ]
        }
      ]
    },
    {
      "cell_type": "code",
      "source": [
        "n=int(input(\"Enter a number..\"))\n",
        "for i in range(1,11):\n",
        "  c=n*i\n",
        "  print(n,\"*\",i,\"=\",c)"
      ],
      "metadata": {
        "colab": {
          "base_uri": "https://localhost:8080/"
        },
        "id": "SlXvcaEBhd3s",
        "outputId": "5c587d27-2953-4876-8c04-2dd47b174ad7"
      },
      "execution_count": 26,
      "outputs": [
        {
          "output_type": "stream",
          "name": "stdout",
          "text": [
            "Enter a number..2\n",
            "2 * 1 = 2\n",
            "2 * 2 = 4\n",
            "2 * 3 = 6\n",
            "2 * 4 = 8\n",
            "2 * 5 = 10\n",
            "2 * 6 = 12\n",
            "2 * 7 = 14\n",
            "2 * 8 = 16\n",
            "2 * 9 = 18\n",
            "2 * 10 = 20\n"
          ]
        }
      ]
    },
    {
      "cell_type": "code",
      "source": [
        "n=int(input(\"Enter the number...\"))\n",
        "sum=0\n",
        "for i in range(2,n,2):\n",
        "  sum=sum+i\n",
        "print(\"The sum is:\",sum)"
      ],
      "metadata": {
        "colab": {
          "base_uri": "https://localhost:8080/"
        },
        "id": "HSSqnbYPiZpg",
        "outputId": "ab01e3dd-2d01-4f4d-c023-d052cd26c766"
      },
      "execution_count": 29,
      "outputs": [
        {
          "output_type": "stream",
          "name": "stdout",
          "text": [
            "Enter the number...10\n",
            "The sum is: 20\n"
          ]
        }
      ]
    },
    {
      "cell_type": "code",
      "source": [
        "list=['Peter','Laxmi','Sai']\n",
        "for i in range(len(list)):\n",
        "   print(\"Hello\",list[i])\n"
      ],
      "metadata": {
        "colab": {
          "base_uri": "https://localhost:8080/"
        },
        "id": "zzXcR1KWjEPJ",
        "outputId": "402c816a-09e4-40c5-f866-f54127d1f315"
      },
      "execution_count": 33,
      "outputs": [
        {
          "output_type": "stream",
          "name": "stdout",
          "text": [
            "Hello Peter\n",
            "Hello Laxmi\n",
            "Hello Sai\n"
          ]
        }
      ]
    },
    {
      "cell_type": "code",
      "source": [
        "#Nested Loop\n",
        "r=int(input(\"Enter the number of rows...\"))\n",
        "for i in range(0,r+1):\n",
        "  for j in range (0,i):\n",
        "    print(\"*\",end=' ')\n",
        "  print()"
      ],
      "metadata": {
        "colab": {
          "base_uri": "https://localhost:8080/"
        },
        "id": "n2JbnTznnWRu",
        "outputId": "38ba1ff5-12e9-4e74-ab9e-468a7d716366"
      },
      "execution_count": 46,
      "outputs": [
        {
          "output_type": "stream",
          "name": "stdout",
          "text": [
            "Enter the number of rows...5\n",
            "\n",
            "* \n",
            "* * \n",
            "* * * \n",
            "* * * * \n",
            "* * * * * \n"
          ]
        }
      ]
    },
    {
      "cell_type": "code",
      "source": [
        "r=int(input(\"Enter the number of rows...\"))\n",
        "for i in range(0,r+1):\n",
        "  for j in range (0,i):\n",
        "    print(i,end=' ')\n",
        "  print()"
      ],
      "metadata": {
        "colab": {
          "base_uri": "https://localhost:8080/"
        },
        "id": "GN20Sr4Xp2ck",
        "outputId": "8fb97416-a8d1-4003-b477-b6e42ab0fa66"
      },
      "execution_count": 47,
      "outputs": [
        {
          "output_type": "stream",
          "name": "stdout",
          "text": [
            "Enter the number of rows...5\n",
            "\n",
            "1 \n",
            "2 2 \n",
            "3 3 3 \n",
            "4 4 4 4 \n",
            "5 5 5 5 5 \n"
          ]
        }
      ]
    },
    {
      "cell_type": "code",
      "source": [
        "s=0\n",
        "i=1\n",
        "while i<=10:\n",
        "  s=s+i\n",
        "  i=i+1\n",
        "print(\"Sum from 1 to 10:\",s)"
      ],
      "metadata": {
        "colab": {
          "base_uri": "https://localhost:8080/"
        },
        "id": "cVDQilJhq0s_",
        "outputId": "11d28066-afba-47dd-a213-2f0b6a7ae99c"
      },
      "execution_count": 49,
      "outputs": [
        {
          "output_type": "stream",
          "name": "stdout",
          "text": [
            "Sum from 1 to 10: 55\n"
          ]
        }
      ]
    },
    {
      "cell_type": "code",
      "source": [
        "n=int(input(\"Enter the number:\"))\n",
        "r=0\n",
        "while n>0:\n",
        "  d=int(n%10)\n",
        "  r=r*10+d\n",
        "  n=int(n/10)\n",
        "print(\"The reverse of the number is:\",r)"
      ],
      "metadata": {
        "colab": {
          "base_uri": "https://localhost:8080/"
        },
        "id": "upIgZHEZr-Ev",
        "outputId": "c8c3c8c7-3b2e-48d1-f688-78e989113998"
      },
      "execution_count": 53,
      "outputs": [
        {
          "output_type": "stream",
          "name": "stdout",
          "text": [
            "Enter the number:123\n",
            "The reverse of the number is: 321\n"
          ]
        }
      ]
    },
    {
      "cell_type": "code",
      "source": [],
      "metadata": {
        "id": "vPt0NPTVt9q-"
      },
      "execution_count": null,
      "outputs": []
    }
  ]
}