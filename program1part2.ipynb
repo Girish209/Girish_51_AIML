{
  "nbformat": 4,
  "nbformat_minor": 0,
  "metadata": {
    "colab": {
      "provenance": [],
      "authorship_tag": "ABX9TyNH5HtZDlJB2K5VzUXWt0+J",
      "include_colab_link": true
    },
    "kernelspec": {
      "name": "python3",
      "display_name": "Python 3"
    },
    "language_info": {
      "name": "python"
    }
  },
  "cells": [
    {
      "cell_type": "markdown",
      "metadata": {
        "id": "view-in-github",
        "colab_type": "text"
      },
      "source": [
        "<a href=\"https://colab.research.google.com/github/Girish209/Girish_51_AIML/blob/main/program1part2.ipynb\" target=\"_parent\"><img src=\"https://colab.research.google.com/assets/colab-badge.svg\" alt=\"Open In Colab\"/></a>"
      ]
    },
    {
      "cell_type": "code",
      "execution_count": 2,
      "metadata": {
        "colab": {
          "base_uri": "https://localhost:8080/"
        },
        "id": "6o-cCE5jnXHn",
        "outputId": "abd4b435-bcaf-4720-f965-552579383293"
      },
      "outputs": [
        {
          "output_type": "stream",
          "name": "stdout",
          "text": [
            "Enter the number...123\n",
            "The reverse of the number is: 321\n"
          ]
        }
      ],
      "source": [
        "n=int(input(\"Enter the number...\"))\n",
        "r=0\n",
        "while n>0:\n",
        "  d=int(n%10)\n",
        "  r=(r*10)+d\n",
        "  n=int(n/10)\n",
        "print(\"The reverse of the number is:\",r)"
      ]
    },
    {
      "cell_type": "code",
      "source": [
        "n=int(input(\"Enter the number...\"))\n",
        "r=0\n",
        "tmp=n\n",
        "while n>0:\n",
        "  d=int(n%10)\n",
        "  r=r+(d*d*d)\n",
        "  n=int(n/10)\n",
        "if r==tmp:\n",
        "  print(\"The number is armstrong\")\n",
        "else:\n",
        "  print(\"The number is not armstrong\")"
      ],
      "metadata": {
        "colab": {
          "base_uri": "https://localhost:8080/"
        },
        "id": "7RciYhbXoLjl",
        "outputId": "77592e91-6a19-40df-b3bf-ebff7e55a231"
      },
      "execution_count": 4,
      "outputs": [
        {
          "output_type": "stream",
          "name": "stdout",
          "text": [
            "Enter the number...123\n",
            "The number is not armstrong\n"
          ]
        }
      ]
    },
    {
      "cell_type": "code",
      "source": [
        "n=int(input(\"Enter the number...\"))\n",
        "i=2\n",
        "flag=0\n",
        "while i<=(n/2):\n",
        "  if(n%i==0):\n",
        "    flag=flag+1\n",
        "  i=i+1\n",
        "if flag==0:\n",
        "  print(\"The number is prime\")\n",
        "else:\n",
        "  print(\"The number is not prime\")"
      ],
      "metadata": {
        "colab": {
          "base_uri": "https://localhost:8080/"
        },
        "id": "4dOEEPWzqlV1",
        "outputId": "ae5bb430-55f7-499d-9bde-82620ada0181"
      },
      "execution_count": 7,
      "outputs": [
        {
          "output_type": "stream",
          "name": "stdout",
          "text": [
            "Enter the number...1\n",
            "The number is prime\n"
          ]
        }
      ]
    },
    {
      "cell_type": "code",
      "source": [
        "nterms = int(input(\"How many terms? \"))\n",
        "n1, n2 = 0, 1\n",
        "count = 0\n",
        "if nterms <= 0:\n",
        "   print(\"Please enter a positive integer\")\n",
        "elif nterms == 1:\n",
        "   print(\"Fibonacci sequence upto\",nterms,\":\")\n",
        "   print(n1)\n",
        "else:\n",
        "   print(\"Fibonacci sequence:\")\n",
        "   while count < nterms:\n",
        "       print(n1)\n",
        "       nth = n1 + n2\n",
        "       n1 = n2\n",
        "       n2 = nth\n",
        "       count += 1"
      ],
      "metadata": {
        "colab": {
          "base_uri": "https://localhost:8080/"
        },
        "id": "zU-eaDIirkwy",
        "outputId": "d5591694-a74d-4bcc-b4b9-4d7dec044d0a"
      },
      "execution_count": 16,
      "outputs": [
        {
          "output_type": "stream",
          "name": "stdout",
          "text": [
            "How many terms? 5\n",
            "Fibonacci sequence:\n",
            "0\n",
            "1\n",
            "1\n",
            "2\n",
            "3\n"
          ]
        }
      ]
    },
    {
      "cell_type": "code",
      "source": [
        "def recur_fibo(n):\n",
        "   if n <= 1:\n",
        "       return n\n",
        "   else:\n",
        "       return(recur_fibo(n-1) + recur_fibo(n-2))\n",
        "\n",
        "nterms =int((input(\"Enteer the number of terms\")))\n",
        "\n",
        "# check if the number of terms is valid\n",
        "if nterms <= 0:\n",
        "   print(\"Plese enter a positive integer\")\n",
        "else:\n",
        "   print(\"Fibonacci sequence:\")\n",
        "   i=0\n",
        "   while i<nterms:\n",
        "       print(recur_fibo(i))\n",
        "       i=i+1\n"
      ],
      "metadata": {
        "colab": {
          "base_uri": "https://localhost:8080/"
        },
        "id": "HZxcidb2urXN",
        "outputId": "9cb085d1-f2f1-40b8-8dbd-1202aee503fc"
      },
      "execution_count": 19,
      "outputs": [
        {
          "output_type": "stream",
          "name": "stdout",
          "text": [
            "Enteer the number of terms6\n",
            "Fibonacci sequence:\n",
            "0\n",
            "1\n",
            "1\n",
            "2\n",
            "3\n",
            "5\n"
          ]
        }
      ]
    },
    {
      "cell_type": "code",
      "source": [],
      "metadata": {
        "id": "FXSt4XC3vtAO"
      },
      "execution_count": null,
      "outputs": []
    }
  ]
}