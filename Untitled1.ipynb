{
  "nbformat": 4,
  "nbformat_minor": 0,
  "metadata": {
    "colab": {
      "provenance": [],
      "authorship_tag": "ABX9TyNBFiQ95T1z84QgOI1WF0MS",
      "include_colab_link": true
    },
    "kernelspec": {
      "name": "python3",
      "display_name": "Python 3"
    },
    "language_info": {
      "name": "python"
    }
  },
  "cells": [
    {
      "cell_type": "markdown",
      "metadata": {
        "id": "view-in-github",
        "colab_type": "text"
      },
      "source": [
        "<a href=\"https://colab.research.google.com/github/Girish209/Girish_51_AIML/blob/main/Untitled1.ipynb\" target=\"_parent\"><img src=\"https://colab.research.google.com/assets/colab-badge.svg\" alt=\"Open In Colab\"/></a>"
      ]
    },
    {
      "cell_type": "code",
      "execution_count": null,
      "metadata": {
        "id": "M6ZU-K5amp_I",
        "colab": {
          "base_uri": "https://localhost:8080/"
        },
        "outputId": "f9c4b2cb-aeb0-40e0-9ef3-86409ed63e20"
      },
      "outputs": [
        {
          "output_type": "stream",
          "name": "stdout",
          "text": [
            "A\n",
            "I\n",
            "T\n"
          ]
        }
      ],
      "source": [
        "for var in \"ABIT\":\n",
        "  if var==\"B\":\n",
        "    continue\n",
        "  print(var)"
      ]
    },
    {
      "cell_type": "code",
      "source": [
        "for i in range(10):\n",
        "  print(i)\n",
        "  if i==2:\n",
        "    break"
      ],
      "metadata": {
        "colab": {
          "base_uri": "https://localhost:8080/"
        },
        "id": "VK96JOrFoE1K",
        "outputId": "20e572c6-f3ec-45ad-88b2-1e1f9a61698a"
      },
      "execution_count": null,
      "outputs": [
        {
          "output_type": "stream",
          "name": "stdout",
          "text": [
            "0\n",
            "1\n",
            "2\n"
          ]
        }
      ]
    },
    {
      "cell_type": "code",
      "source": [
        "for var in range(10):\n",
        "  if var==5:\n",
        "    continue\n",
        "  print(var)"
      ],
      "metadata": {
        "colab": {
          "base_uri": "https://localhost:8080/"
        },
        "id": "uY0juVaJqHoq",
        "outputId": "1a29fd62-7aa9-4899-a01d-a2daa031e61c"
      },
      "execution_count": null,
      "outputs": [
        {
          "output_type": "stream",
          "name": "stdout",
          "text": [
            "0\n",
            "1\n",
            "2\n",
            "3\n",
            "4\n",
            "6\n",
            "7\n",
            "8\n",
            "9\n"
          ]
        }
      ]
    },
    {
      "cell_type": "code",
      "source": [
        "li=['a','b','c','d']\n",
        "for i in li:\n",
        "  if i=='a':\n",
        "    pass\n",
        "  else:\n",
        "    print(i)"
      ],
      "metadata": {
        "colab": {
          "base_uri": "https://localhost:8080/"
        },
        "id": "usJfVdoLqUj_",
        "outputId": "1ad8de67-5fed-4f0a-9e8f-fdcc04ed8a4c"
      },
      "execution_count": null,
      "outputs": [
        {
          "output_type": "stream",
          "name": "stdout",
          "text": [
            "b\n",
            "c\n",
            "d\n"
          ]
        }
      ]
    },
    {
      "cell_type": "code",
      "source": [
        "#write a python program to print n even numbers and pass the value after 10 upto n\n",
        "n=int(input(\"Enter no. of terms..\"))\n",
        "for i in range(0,n+1,2):\n",
        "  if i<=10:\n",
        "    pass\n",
        "  else:\n",
        "    print(i)"
      ],
      "metadata": {
        "colab": {
          "base_uri": "https://localhost:8080/"
        },
        "id": "RXHlGP9EsL49",
        "outputId": "695dc53e-f26e-4110-894b-0a2689814263"
      },
      "execution_count": null,
      "outputs": [
        {
          "output_type": "stream",
          "name": "stdout",
          "text": [
            "Enter no. of terms..40\n",
            "12\n",
            "14\n",
            "16\n",
            "18\n",
            "20\n",
            "22\n",
            "24\n",
            "26\n",
            "28\n",
            "30\n",
            "32\n",
            "34\n",
            "36\n",
            "38\n",
            "40\n"
          ]
        }
      ]
    },
    {
      "cell_type": "code",
      "source": [
        "def show():\n",
        "  print(\"Hello\")\n",
        "show()"
      ],
      "metadata": {
        "colab": {
          "base_uri": "https://localhost:8080/"
        },
        "id": "mzkzSY-htO72",
        "outputId": "04839d96-c85c-48e1-e0cd-f08d213baae8"
      },
      "execution_count": null,
      "outputs": [
        {
          "output_type": "stream",
          "name": "stdout",
          "text": [
            "Hello\n"
          ]
        }
      ]
    },
    {
      "cell_type": "code",
      "source": [
        "def sum(a,b):\n",
        "  print(a+b)\n",
        "x=int(input(\"Enter 1st no.\"))\n",
        "y=int(input(\"Enter 2nd no.\"))\n",
        "sum(x,y)"
      ],
      "metadata": {
        "id": "hIaFeQAMyAll"
      },
      "execution_count": null,
      "outputs": []
    },
    {
      "cell_type": "code",
      "source": [
        "#write a python program using function and take the input from keyboard to reverse it and count no. of odd and even's\n",
        "\n",
        "def reverse(n):\n",
        "  rev=0\n",
        "  while n>0:\n",
        "   d=int(n%10)\n",
        "   rev=(rev*10)+d\n",
        "   n=int(n/10)\n",
        "  return rev\n",
        "def count(n):\n",
        "  oddcount=0\n",
        "  evencount=0\n",
        "  while n>0:\n",
        "   d=int(n%10)\n",
        "   if int(d%2)==0:\n",
        "    evencount+=1\n",
        "   else:\n",
        "    oddcount+=1\n",
        "   n=int(n/10)\n",
        "  return evencount,oddcount\n",
        "n=int(input(\"Enter 1st no.\"))\n",
        "t=reverse(n)\n",
        "print(\"The reverse of the number is:\",t)\n",
        "print(\"The even and odd numbers in the number are:\",count(n))"
      ],
      "metadata": {
        "colab": {
          "base_uri": "https://localhost:8080/"
        },
        "id": "QWmw7HeW0Q1H",
        "outputId": "03ce448b-d5fe-41ef-d08f-186819fdf842"
      },
      "execution_count": 17,
      "outputs": [
        {
          "output_type": "stream",
          "name": "stdout",
          "text": [
            "Enter 1st no.4001\n",
            "The reverse of the number is: 1004\n",
            "The even and odd numbers in the number are: (3, 1)\n"
          ]
        }
      ]
    },
    {
      "cell_type": "code",
      "source": [],
      "metadata": {
        "id": "nK-qNMIy1ZrP"
      },
      "execution_count": null,
      "outputs": []
    }
  ]
}