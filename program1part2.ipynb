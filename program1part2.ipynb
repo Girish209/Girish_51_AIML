{
  "nbformat": 4,
  "nbformat_minor": 0,
  "metadata": {
    "colab": {
      "provenance": [],
      "authorship_tag": "ABX9TyNYTs1byZYTPUMKsU9CLIHU",
      "include_colab_link": true
    },
    "kernelspec": {
      "name": "python3",
      "display_name": "Python 3"
    },
    "language_info": {
      "name": "python"
    }
  },
  "cells": [
    {
      "cell_type": "markdown",
      "metadata": {
        "id": "view-in-github",
        "colab_type": "text"
      },
      "source": [
        "<a href=\"https://colab.research.google.com/github/Girish209/Girish_51_AIML/blob/main/program1part2.ipynb\" target=\"_parent\"><img src=\"https://colab.research.google.com/assets/colab-badge.svg\" alt=\"Open In Colab\"/></a>"
      ]
    },
    {
      "cell_type": "code",
      "execution_count": null,
      "metadata": {
        "colab": {
          "base_uri": "https://localhost:8080/"
        },
        "id": "6o-cCE5jnXHn",
        "outputId": "abd4b435-bcaf-4720-f965-552579383293"
      },
      "outputs": [
        {
          "output_type": "stream",
          "name": "stdout",
          "text": [
            "Enter the number...123\n",
            "The reverse of the number is: 321\n"
          ]
        }
      ],
      "source": [
        "n=int(input(\"Enter the number...\"))\n",
        "r=0\n",
        "while n>0:\n",
        "  d=int(n%10)\n",
        "  r=(r*10)+d\n",
        "  n=int(n/10)\n",
        "print(\"The reverse of the number is:\",r)"
      ]
    },
    {
      "cell_type": "code",
      "source": [
        "n=int(input(\"Enter the number...\"))\n",
        "r=0\n",
        "tmp=n\n",
        "while n>0:\n",
        "  d=int(n%10)\n",
        "  r=r+(d*d*d)\n",
        "  n=int(n/10)\n",
        "if r==tmp:\n",
        "  print(\"The number is armstrong\")\n",
        "else:\n",
        "  print(\"The number is not armstrong\")"
      ],
      "metadata": {
        "colab": {
          "base_uri": "https://localhost:8080/"
        },
        "id": "7RciYhbXoLjl",
        "outputId": "77592e91-6a19-40df-b3bf-ebff7e55a231"
      },
      "execution_count": null,
      "outputs": [
        {
          "output_type": "stream",
          "name": "stdout",
          "text": [
            "Enter the number...123\n",
            "The number is not armstrong\n"
          ]
        }
      ]
    },
    {
      "cell_type": "code",
      "source": [
        "n=int(input(\"Enter the number...\"))\n",
        "i=2\n",
        "flag=0\n",
        "while i<=(n/2):\n",
        "  if(n%i==0):\n",
        "    flag=flag+1\n",
        "  i=i+1\n",
        "if flag==0:\n",
        "  print(\"The number is prime\")\n",
        "else:\n",
        "  print(\"The number is not prime\")"
      ],
      "metadata": {
        "colab": {
          "base_uri": "https://localhost:8080/"
        },
        "id": "4dOEEPWzqlV1",
        "outputId": "ae5bb430-55f7-499d-9bde-82620ada0181"
      },
      "execution_count": null,
      "outputs": [
        {
          "output_type": "stream",
          "name": "stdout",
          "text": [
            "Enter the number...1\n",
            "The number is prime\n"
          ]
        }
      ]
    },
    {
      "cell_type": "code",
      "source": [
        "nterms = int(input(\"How many terms? \"))\n",
        "n1, n2 = 0, 1\n",
        "count = 0\n",
        "if nterms <= 0:\n",
        "   print(\"Please enter a positive integer\")\n",
        "elif nterms == 1:\n",
        "   print(\"Fibonacci sequence upto\",nterms,\":\")\n",
        "   print(n1)\n",
        "else:\n",
        "   print(\"Fibonacci sequence:\")\n",
        "   while count < nterms:\n",
        "       print(n1)\n",
        "       nth = n1 + n2\n",
        "       n1 = n2\n",
        "       n2 = nth\n",
        "       count += 1"
      ],
      "metadata": {
        "colab": {
          "base_uri": "https://localhost:8080/"
        },
        "id": "zU-eaDIirkwy",
        "outputId": "d5591694-a74d-4bcc-b4b9-4d7dec044d0a"
      },
      "execution_count": null,
      "outputs": [
        {
          "output_type": "stream",
          "name": "stdout",
          "text": [
            "How many terms? 5\n",
            "Fibonacci sequence:\n",
            "0\n",
            "1\n",
            "1\n",
            "2\n",
            "3\n"
          ]
        }
      ]
    },
    {
      "cell_type": "code",
      "source": [
        "def recur_fibo(n):\n",
        "   if n <= 1:\n",
        "       return n\n",
        "   else:\n",
        "       return(recur_fibo(n-1) + recur_fibo(n-2))\n",
        "\n",
        "nterms =int((input(\"Enteer the number of terms\")))\n",
        "\n",
        "# check if the number of terms is valid\n",
        "if nterms <= 0:\n",
        "   print(\"Plese enter a positive integer\")\n",
        "else:\n",
        "   print(\"Fibonacci sequence:\")\n",
        "   i=0\n",
        "   while i<nterms:\n",
        "       print(recur_fibo(i))\n",
        "       i=i+1\n"
      ],
      "metadata": {
        "colab": {
          "base_uri": "https://localhost:8080/"
        },
        "id": "HZxcidb2urXN",
        "outputId": "9cb085d1-f2f1-40b8-8dbd-1202aee503fc"
      },
      "execution_count": null,
      "outputs": [
        {
          "output_type": "stream",
          "name": "stdout",
          "text": [
            "Enteer the number of terms6\n",
            "Fibonacci sequence:\n",
            "0\n",
            "1\n",
            "1\n",
            "2\n",
            "3\n",
            "5\n"
          ]
        }
      ]
    },
    {
      "cell_type": "code",
      "source": [
        "n=int(input(\"Enter the number...\"))\n",
        "r=0\n",
        "tmp=n\n",
        "while n>0:\n",
        "  d=int(n%10)\n",
        "  r=(r*10)+d\n",
        "  n=int(n/10)\n",
        "if tmp==r:\n",
        "  print(\"The number is palindrome\")\n",
        "else:\n",
        "  print(\"The number is not palindrome\")"
      ],
      "metadata": {
        "id": "FXSt4XC3vtAO",
        "colab": {
          "base_uri": "https://localhost:8080/"
        },
        "outputId": "aa9a0d88-f914-4bc4-dd8c-abd6b19429e2"
      },
      "execution_count": 2,
      "outputs": [
        {
          "output_type": "stream",
          "name": "stdout",
          "text": [
            "Enter the number...1221\n",
            "The number is palindrome\n"
          ]
        }
      ]
    },
    {
      "cell_type": "code",
      "source": [
        "def rev(n, temp):\n",
        "\tif (n == 0):\n",
        "\t\treturn temp;\n",
        "\ttemp = (temp * 10) + (n % 10);\n",
        "\treturn rev(n // 10, temp);\n",
        "n=int(input(\"Enter the number...\"))\n",
        "temp = rev(n, 0);\n",
        "if (temp == n):\n",
        "\tprint(\"yes\")\n",
        "else:\n",
        "\tprint(\"no\")\n"
      ],
      "metadata": {
        "colab": {
          "base_uri": "https://localhost:8080/"
        },
        "id": "8k6UNj8PHyns",
        "outputId": "4b527df6-3af8-4560-ec13-850ec108c695"
      },
      "execution_count": 5,
      "outputs": [
        {
          "output_type": "stream",
          "name": "stdout",
          "text": [
            "Enter the number...123\n",
            "no\n"
          ]
        }
      ]
    },
    {
      "cell_type": "code",
      "source": [
        "a=int(input(\"Enter 1st number...\"))\n",
        "b=int(input(\"Enter 2nd number...\"))\n",
        "c=int(input(\"Enter 3rd number...\"))\n",
        "if a>b and a>c:\n",
        "  print(\"Number 1 is greatest\")\n",
        "elif b>a and b>c:\n",
        "  print(\"Number 2 is greatest\")\n",
        "else:\n",
        "  print(\"Number 3 is greatest\")"
      ],
      "metadata": {
        "id": "BnBUXX5HI6dB"
      },
      "execution_count": null,
      "outputs": []
    },
    {
      "cell_type": "code",
      "source": [
        "\n",
        "def check2(string):\n",
        "\tt = '01'\n",
        "\tcount = 0\n",
        "\tfor char in string:\n",
        "\n",
        "\t\tif char not in t:\n",
        "\t\t\tcount = 1\n",
        "\t\t\tbreak\n",
        "\t\telse:\n",
        "\t\t\tpass\n",
        "\tif count:\n",
        "\t\tprint(\"No\")\n",
        "\telse:\n",
        "\t\tprint(\"Yes\")\n",
        "if __name__ == \"__main__\":\n",
        "\n",
        "\tstring =input(\"Enter the number..\")\n",
        "\tcheck2(string)\n"
      ],
      "metadata": {
        "colab": {
          "base_uri": "https://localhost:8080/"
        },
        "id": "EwKkURr0K05_",
        "outputId": "a6ad3a52-bf38-41d8-aab1-0c3c48df01b5"
      },
      "execution_count": 20,
      "outputs": [
        {
          "output_type": "stream",
          "name": "stdout",
          "text": [
            "Enter the number..123\n",
            "No\n"
          ]
        }
      ]
    },
    {
      "cell_type": "code",
      "source": [
        "import keyword\n",
        "def sum(n):\n",
        "  if n==0:\n",
        "    return 0\n",
        "  d=int(n%10)\n",
        "  return (d+sum(int(n/10)))\n",
        "n=int(input(\"Enter the number...\"))\n",
        "res=sum(n)\n",
        "print(\"The sum is:\",res)"
      ],
      "metadata": {
        "colab": {
          "base_uri": "https://localhost:8080/"
        },
        "id": "KWsBlXv0OeZw",
        "outputId": "0870119e-7d3f-40c7-9539-9c123e06099c"
      },
      "execution_count": 32,
      "outputs": [
        {
          "output_type": "stream",
          "name": "stdout",
          "text": [
            "Enter the number...123\n",
            "The sum is: 6\n"
          ]
        }
      ]
    },
    {
      "cell_type": "code",
      "source": [
        "a=int(input(\"Enter 1st number...\"))\n",
        "b=int(input(\"Enter 2nd number...\"))\n",
        "a=a+b\n",
        "b=a-b\n",
        "a=a-b\n",
        "print(\"number 1=\",a)\n",
        "print(\"Number 2=\",b)"
      ],
      "metadata": {
        "colab": {
          "base_uri": "https://localhost:8080/"
        },
        "id": "F8kBSXOOQx1-",
        "outputId": "60a68341-1ad4-4243-ae99-a9894fcf0b28"
      },
      "execution_count": 33,
      "outputs": [
        {
          "output_type": "stream",
          "name": "stdout",
          "text": [
            "Enter 1st number...12\n",
            "Enter 2nd number...23\n",
            "number 1= 23\n",
            "Number 2= 12\n"
          ]
        }
      ]
    },
    {
      "cell_type": "code",
      "source": [
        "a=int(input(\"Enter 1st number...\"))\n",
        "b=int(input(\"Enter 2nd number...\"))\n",
        "temp=a\n",
        "a=b\n",
        "b=temp\n",
        "print(\"number 1=\",a)\n",
        "print(\"Number 2=\",b)"
      ],
      "metadata": {
        "colab": {
          "base_uri": "https://localhost:8080/"
        },
        "id": "NvWUsukGRIkt",
        "outputId": "45c994d5-2b40-479d-8863-cf881c1061cd"
      },
      "execution_count": 34,
      "outputs": [
        {
          "output_type": "stream",
          "name": "stdout",
          "text": [
            "Enter 1st number...12\n",
            "Enter 2nd number...23\n",
            "number 1= 23\n",
            "Number 2= 12\n"
          ]
        }
      ]
    },
    {
      "cell_type": "code",
      "source": [
        "import math  \n",
        " \n",
        "def prime_factors(num):   \n",
        "    while num % 2 == 0:  \n",
        "        print(2,)  \n",
        "        num = num / 2  \n",
        "  \n",
        "    for i in range(3, int(math.sqrt(num)) + 1, 2): \n",
        "        while num % i == 0:  \n",
        "            print(i,)  \n",
        "            num = num / i  \n",
        "    if num > 2:  \n",
        "        print(num)    \n",
        "num =int(input(\"Enter the number..\")) \n",
        "prime_factors(num)"
      ],
      "metadata": {
        "colab": {
          "base_uri": "https://localhost:8080/"
        },
        "id": "OR5Wc9Q8RdgL",
        "outputId": "57a2ce52-b60d-4bc1-c05e-a890529b4b24"
      },
      "execution_count": 37,
      "outputs": [
        {
          "output_type": "stream",
          "name": "stdout",
          "text": [
            "Enter the number..25\n",
            "5\n",
            "5\n"
          ]
        }
      ]
    },
    {
      "cell_type": "code",
      "source": [],
      "metadata": {
        "id": "jGMuvTurTAyS"
      },
      "execution_count": null,
      "outputs": []
    }
  ]
}