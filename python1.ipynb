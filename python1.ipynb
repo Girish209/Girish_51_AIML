{
  "nbformat": 4,
  "nbformat_minor": 0,
  "metadata": {
    "colab": {
      "provenance": [],
      "authorship_tag": "ABX9TyMh8zmx1Z0q+6gzM0smtIMU",
      "include_colab_link": true
    },
    "kernelspec": {
      "name": "python3",
      "display_name": "Python 3"
    },
    "language_info": {
      "name": "python"
    }
  },
  "cells": [
    {
      "cell_type": "markdown",
      "metadata": {
        "id": "view-in-github",
        "colab_type": "text"
      },
      "source": [
        "<a href=\"https://colab.research.google.com/github/Girish209/Girish_51_AIML/blob/main/python1.ipynb\" target=\"_parent\"><img src=\"https://colab.research.google.com/assets/colab-badge.svg\" alt=\"Open In Colab\"/></a>"
      ]
    },
    {
      "cell_type": "markdown",
      "source": [
        "# Python Programming using if, if-else and if-elif statement"
      ],
      "metadata": {
        "id": "V2pYb1Rfc-Da"
      }
    },
    {
      "cell_type": "code",
      "source": [
        "#Question 1\n",
        "sal=int(input(\"Enter the salary...\"))\n",
        "yos=int(input(\"Enter year of service...\"))\n",
        "if yos>5:\n",
        "  netbonus=(sal*0.05);\n",
        "  print(\"Net Bonus amount is\",netbonus);\n",
        "else:\n",
        "  print(\"Sorry...You are not eligible for bonus pay\");"
      ],
      "metadata": {
        "colab": {
          "base_uri": "https://localhost:8080/"
        },
        "id": "FbWnE_t8dN66",
        "outputId": "eb21cc93-498e-4776-d8f3-35f2e8c33973"
      },
      "execution_count": 2,
      "outputs": [
        {
          "output_type": "stream",
          "name": "stdout",
          "text": [
            "Enter the salary...5000\n",
            "Enter year of service...3\n",
            "Sorry...You are not eligible for bonus pay\n"
          ]
        }
      ]
    },
    {
      "cell_type": "code",
      "source": [
        "#Question 2\n",
        "len=int(input(\"Enter the length of rectangle..\"))\n",
        "bre=int(input(\"Enter the breadth of rectangle..\"))\n",
        "if len==bre:\n",
        "  print(\"It is square\")\n",
        "else:\n",
        "  print(\"It is not square\")"
      ],
      "metadata": {
        "colab": {
          "base_uri": "https://localhost:8080/"
        },
        "id": "fLScR3DaeopM",
        "outputId": "ea5cd255-0fe7-4330-9499-0e48a18aa9b9"
      },
      "execution_count": 4,
      "outputs": [
        {
          "output_type": "stream",
          "name": "stdout",
          "text": [
            "Enter the length of rectangle..3\n",
            "Enter the breadth of rectangle..3\n",
            "It is square\n"
          ]
        }
      ]
    },
    {
      "cell_type": "code",
      "source": [
        "#Question 3\n",
        "a=int(input(\"Enter the 1st value...\"))\n",
        "b=int(input(\"Enter the 2nd value...\"))\n",
        "if a>b:\n",
        "  print(\"1st number is greatest\")\n",
        "else:\n",
        "  print(\"2nd number is greatest\")"
      ],
      "metadata": {
        "colab": {
          "base_uri": "https://localhost:8080/"
        },
        "id": "pxJQJ49wfibz",
        "outputId": "73321e24-c0eb-431b-8dbf-20517730f10a"
      },
      "execution_count": 7,
      "outputs": [
        {
          "output_type": "stream",
          "name": "stdout",
          "text": [
            "Enter the 1st value...12\n",
            "Enter the 2nd value...13\n",
            "2nd number is greatest\n"
          ]
        }
      ]
    },
    {
      "cell_type": "code",
      "source": [
        "#Question 4\n",
        "q=int(input(\"Enter the purchased quantity...\"))\n",
        "if q>10:\n",
        "  price=(q*100)-(q*10)\n",
        "  \n",
        "else:\n",
        "  price=q*100\n",
        "print(\"The total cost is:\",price)"
      ],
      "metadata": {
        "colab": {
          "base_uri": "https://localhost:8080/"
        },
        "id": "zTEhpqU0gGLh",
        "outputId": "f9714e1c-9c49-4cde-ad34-2e6e90565dea"
      },
      "execution_count": 9,
      "outputs": [
        {
          "output_type": "stream",
          "name": "stdout",
          "text": [
            "Enter the purchased quantity...8\n",
            "The total cost is: 800\n"
          ]
        }
      ]
    },
    {
      "cell_type": "code",
      "source": [
        "#Question 5\n",
        "marks=int(input(\"Enter the marks...\"))\n",
        "if marks>80:\n",
        "  print(\"Grade A\")\n",
        "elif marks<=80 and marks>60:\n",
        "  print(\"Grade B\")\n",
        "elif marks<=60 and marks>50:\n",
        "  print(\"Grade C\")\n",
        "elif marks<=50 and marks>45:\n",
        "  print(\"Grade D\")\n",
        "elif marks<=45 and marks>25:\n",
        "  print(\"Grade E\")\n",
        "else:\n",
        "  print(\"Grade F\")"
      ],
      "metadata": {
        "colab": {
          "base_uri": "https://localhost:8080/"
        },
        "id": "BxhmBf7dhhxz",
        "outputId": "644124ae-6b49-44a3-986a-542a68ac48c0"
      },
      "execution_count": 10,
      "outputs": [
        {
          "output_type": "stream",
          "name": "stdout",
          "text": [
            "Enter the marks...12\n",
            "Grade F\n"
          ]
        }
      ]
    },
    {
      "cell_type": "code",
      "source": [
        "age1=int(input(\"Enter the age of person 1...\"))\n",
        "age2=int(input(\"Enter the age of person 2...\"))\n",
        "age3=int(input(\"Enter the age of person 3...\"))\n",
        "if age1>age2 and age1>age3:\n",
        "  print(\"1st person is oldest\")\n",
        "  if age2>age3:\n",
        "    print(\"3rd person is youngest\")\n",
        "  else:\n",
        "    print(\"2nd person is youngest\")\n",
        "elif age2>age1 and age2>age3:\n",
        "  print(\"2nd person is oldest\")\n",
        "  if age1>age3:\n",
        "    print(\"3rd person is youngest\")\n",
        "  else:\n",
        "    print(\"1st person is youngest\")\n",
        "else:\n",
        "  print(\"#rd person is oldest\")\n",
        "  if age1>age2:\n",
        "    print(\"2nd person is youngest\")\n",
        "  else:\n",
        "    print(\"1st person is youngest\")"
      ],
      "metadata": {
        "colab": {
          "base_uri": "https://localhost:8080/"
        },
        "id": "ImH-cPhtixyp",
        "outputId": "fc3a043b-4f3d-4005-8347-84ba0d77adab"
      },
      "execution_count": 11,
      "outputs": [
        {
          "output_type": "stream",
          "name": "stdout",
          "text": [
            "Enter the age of person 1...12\n",
            "Enter the age of person 2...23\n",
            "Enter the age of person 3...15\n",
            "2nd person is oldest\n",
            "1st person is youngest\n"
          ]
        }
      ]
    },
    {
      "cell_type": "code",
      "source": [
        "a=int(input(\"Enter the number...\"))\n",
        "if a>0:\n",
        "  print(a)\n",
        "else:\n",
        "  print(-a)"
      ],
      "metadata": {
        "colab": {
          "base_uri": "https://localhost:8080/"
        },
        "id": "I06XkPA6lFYv",
        "outputId": "c1418cde-b711-4487-ffb5-602cf7ac951c"
      },
      "execution_count": 12,
      "outputs": [
        {
          "output_type": "stream",
          "name": "stdout",
          "text": [
            "Enter the number...-20\n",
            "20\n"
          ]
        }
      ]
    },
    {
      "cell_type": "code",
      "source": [
        "hc=int(input(\"Enter the no. of classes held...\"))\n",
        "at=int(input(\"Enter the no. of classes attended...\"))\n",
        "percentage=(at/hc)*100\n",
        "print(\"percentage of attended classes are:\",percentage)\n",
        "if percentage>=75:\n",
        "  print(\"The student is allowed to sit in the examination\")\n",
        "else:\n",
        "  print(\"The student is not allowed to sit in the examination\")"
      ],
      "metadata": {
        "colab": {
          "base_uri": "https://localhost:8080/"
        },
        "id": "Tc0dyC6ala7p",
        "outputId": "dd9c0aaa-a45e-4cc2-adf7-b0c1529283bc"
      },
      "execution_count": 14,
      "outputs": [
        {
          "output_type": "stream",
          "name": "stdout",
          "text": [
            "Enter the no. of classes held...30\n",
            "Enter the no. of classes attended...20\n",
            "percentage of attended classes are: 66.66666666666666\n",
            "The student is not allowed to sit in the examination\n"
          ]
        }
      ]
    },
    {
      "cell_type": "code",
      "source": [],
      "metadata": {
        "id": "d6wNscd0m18E"
      },
      "execution_count": null,
      "outputs": []
    }
  ]
}