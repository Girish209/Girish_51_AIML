{
  "nbformat": 4,
  "nbformat_minor": 0,
  "metadata": {
    "colab": {
      "provenance": [],
      "authorship_tag": "ABX9TyPzJtzWMYFYHzEWoGwgzfFa",
      "include_colab_link": true
    },
    "kernelspec": {
      "name": "python3",
      "display_name": "Python 3"
    },
    "language_info": {
      "name": "python"
    }
  },
  "cells": [
    {
      "cell_type": "markdown",
      "metadata": {
        "id": "view-in-github",
        "colab_type": "text"
      },
      "source": [
        "<a href=\"https://colab.research.google.com/github/Girish209/Girish_51_AIML/blob/main/Untitled3.ipynb\" target=\"_parent\"><img src=\"https://colab.research.google.com/assets/colab-badge.svg\" alt=\"Open In Colab\"/></a>"
      ]
    },
    {
      "cell_type": "code",
      "execution_count": 2,
      "metadata": {
        "colab": {
          "base_uri": "https://localhost:8080/"
        },
        "id": "8Pn_7RDaV1Ov",
        "outputId": "0639b597-7138-4c5c-9a5f-d7afd2e475a3"
      },
      "outputs": [
        {
          "output_type": "stream",
          "name": "stdout",
          "text": [
            " 3.561e+02\n"
          ]
        }
      ],
      "source": [
        "print(\"%10.3e\"%(356.08977))"
      ]
    },
    {
      "cell_type": "code",
      "source": [
        "import numpy\n",
        "n = int (input('Enter Size:'))\n",
        "arr = numpy.ndarray(shape=(n),dtype=int)\n",
        "print('Enter %d element :'%n)\n",
        "sum=0\n",
        "for i in range(n):\n",
        "  arr[i]=int(input())\n",
        "  sum=sum+arr[i]\n",
        "print('Array Elements :', arr)\n",
        "print(sum)"
      ],
      "metadata": {
        "colab": {
          "base_uri": "https://localhost:8080/"
        },
        "id": "JvuCgoqLZiab",
        "outputId": "abe06e16-ddd7-4db8-e0c9-0a4cd9c3d9ab"
      },
      "execution_count": 6,
      "outputs": [
        {
          "output_type": "stream",
          "name": "stdout",
          "text": [
            "Enter Size:3\n",
            "Enter 3 element :\n",
            "1\n",
            "2\n",
            "3\n",
            "Array Elements : [1 2 3]\n",
            "6\n"
          ]
        }
      ]
    },
    {
      "cell_type": "code",
      "source": [
        "import numpy\n",
        "n = int (input('Enter Size:'))\n",
        "arr = numpy.ndarray(shape=(n),dtype=int)\n",
        "print('Enter %d element :'%n)\n",
        "def oddcount(a,o):\n",
        "  if a%2!=0:\n",
        "    o+=1\n",
        "  return o\n",
        "def evencount(a,e):\n",
        "  if a%2==0:\n",
        "    e+=1\n",
        "  return e\n",
        "o=0\n",
        "e=0\n",
        "for i in range(n):\n",
        "  arr[i]=int(input())\n",
        "  o=oddcount(arr[i],o)\n",
        "  e=evencount(arr[i],e)\n",
        "print('Array Elements :', arr)\n",
        "print(\"The odd elements are:\",o)\n",
        "print(\"The even elements are:\",e)"
      ],
      "metadata": {
        "colab": {
          "base_uri": "https://localhost:8080/"
        },
        "id": "DIdHLdKabJCI",
        "outputId": "b842e860-3836-4604-b6bf-80e473cb743e"
      },
      "execution_count": 16,
      "outputs": [
        {
          "output_type": "stream",
          "name": "stdout",
          "text": [
            "Enter Size:5\n",
            "Enter 5 element :\n",
            "1\n",
            "2\n",
            "4\n",
            "5\n",
            "6\n",
            "Array Elements : [1 2 4 5 6]\n",
            "The odd elements are: 2\n",
            "The even elements are: 3\n"
          ]
        }
      ]
    },
    {
      "cell_type": "code",
      "source": [
        "import numpy\n",
        "m = int (input('Enter Row Size:'))\n",
        "n = int (input('Enter Column Size:'))\n",
        "arr = numpy.ndarray(shape=(m,n),dtype=int)\n",
        "print('Size :', arr.size)\n",
        "print('Shape :', arr.shape)\n",
        "print('Dimension :', arr.ndim)"
      ],
      "metadata": {
        "colab": {
          "base_uri": "https://localhost:8080/"
        },
        "id": "BHMw75W4Z223",
        "outputId": "91a5aa7b-6a43-44ab-c90e-4fc525f3772e"
      },
      "execution_count": 5,
      "outputs": [
        {
          "output_type": "stream",
          "name": "stdout",
          "text": [
            "Enter Row Size:3\n",
            "Enter Column Size:3\n",
            "Size : 9\n",
            "Shape : (3, 3)\n",
            "Dimension : 2\n"
          ]
        }
      ]
    },
    {
      "cell_type": "code",
      "source": [
        "import numpy as np\n",
        "list=[[10,20,30],[40,50,60],[70,80,90]]\n",
        "arr=np.array(list)\n",
        "print(arr)\n",
        "# No Row and Column Size.\n",
        "print('Slicing...... .....')\n",
        "res=arr[:,:]\n",
        "print(res)\n",
        "res2=arr[0:2,0:3]\n",
        "print(res2)"
      ],
      "metadata": {
        "colab": {
          "base_uri": "https://localhost:8080/"
        },
        "id": "IdDkWHtjaI7H",
        "outputId": "c072f9ae-3f34-48f4-be3c-a6eaffd45fbb"
      },
      "execution_count": 22,
      "outputs": [
        {
          "output_type": "stream",
          "name": "stdout",
          "text": [
            "[[10 20 30]\n",
            " [40 50 60]\n",
            " [70 80 90]]\n",
            "Slicing...... .....\n",
            "[[10 20 30]\n",
            " [40 50 60]\n",
            " [70 80 90]]\n",
            "[[10 20 30]\n",
            " [40 50 60]]\n"
          ]
        }
      ]
    },
    {
      "cell_type": "code",
      "source": [
        "import numpy as np\n",
        "list=[[10,20,30],[40,50,60],[70,80,90]]\n",
        "arr=np.array(list)\n",
        "print(arr)\n",
        "# No Row and Column Size.\n",
        "print('Slicing...... .....')\n",
        "res=arr[0:3,1:3]\n",
        "print(res)"
      ],
      "metadata": {
        "colab": {
          "base_uri": "https://localhost:8080/"
        },
        "id": "-y_QmM7Kf3OX",
        "outputId": "daa1c9c8-f3b6-4528-e8c3-e3d4ad5d64a6"
      },
      "execution_count": 23,
      "outputs": [
        {
          "output_type": "stream",
          "name": "stdout",
          "text": [
            "[[10 20 30]\n",
            " [40 50 60]\n",
            " [70 80 90]]\n",
            "Slicing...... .....\n",
            "[[20 30]\n",
            " [50 60]\n",
            " [80 90]]\n"
          ]
        }
      ]
    },
    {
      "cell_type": "code",
      "source": [
        "import numpy as np\n",
        "list=[[10,20,30],[40,50,60],[70,80,90]]\n",
        "arr=np.array(list)\n",
        "print(arr)\n",
        "# No Row and Column Size.\n",
        "print('Slicing...... .....')\n",
        "res=arr[1:3,1:3]\n",
        "print(res)"
      ],
      "metadata": {
        "colab": {
          "base_uri": "https://localhost:8080/"
        },
        "id": "aBI7h0VqhMqi",
        "outputId": "bb8aed85-a15c-49d1-d8c7-f287d4dfe99c"
      },
      "execution_count": 24,
      "outputs": [
        {
          "output_type": "stream",
          "name": "stdout",
          "text": [
            "[[10 20 30]\n",
            " [40 50 60]\n",
            " [70 80 90]]\n",
            "Slicing...... .....\n",
            "[[50 60]\n",
            " [80 90]]\n"
          ]
        }
      ]
    },
    {
      "cell_type": "code",
      "source": [
        "str1 = \"Hello Girish\" \n",
        "slic = slice(0,10,3) # returns slice object \n",
        "slic2 = slice(-1,0,-3) # returns slice object \n",
        "# We can use this slice object to get elements \n",
        "str2 = str1[slic] \n",
        "str3 = str1[slic2] # returns elements in reverse order \n",
        "# Displaying result \n",
        "print(str2) \n",
        "print(str3)"
      ],
      "metadata": {
        "colab": {
          "base_uri": "https://localhost:8080/"
        },
        "id": "sRbdz9CLhVcn",
        "outputId": "494d820b-7907-4787-8a3f-d39f24a8a07d"
      },
      "execution_count": 26,
      "outputs": [
        {
          "output_type": "stream",
          "name": "stdout",
          "text": [
            "HlGi\n",
            "hr l\n"
          ]
        }
      ]
    },
    {
      "cell_type": "code",
      "source": [
        "x = \"Girish at work\"\n",
        "print(x[0:6])"
      ],
      "metadata": {
        "colab": {
          "base_uri": "https://localhost:8080/"
        },
        "id": "HHz-0Xr-i5B1",
        "outputId": "bdca2082-1a0f-490d-f3c2-6aaf99e91ec3"
      },
      "execution_count": 29,
      "outputs": [
        {
          "output_type": "stream",
          "name": "stdout",
          "text": [
            "Girish\n"
          ]
        }
      ]
    },
    {
      "cell_type": "code",
      "source": [
        "str=\"ABIT is an engineering college\"\n",
        "str1=slice(0,27,3)\n",
        "str2=str[str1]\n",
        "print(str[0:27:5])\n",
        "print(str2)"
      ],
      "metadata": {
        "colab": {
          "base_uri": "https://localhost:8080/"
        },
        "id": "O305MEJzjFfE",
        "outputId": "5d36d77f-7e49-4e1b-b5e5-e45a8d30ea21"
      },
      "execution_count": 34,
      "outputs": [
        {
          "output_type": "stream",
          "name": "stdout",
          "text": [
            "Ai nnl\n",
            "ATsnnnrgo\n"
          ]
        }
      ]
    },
    {
      "cell_type": "code",
      "source": [
        "import pandas as pd \n",
        "info = ['Rollno','Name','Age','Semester','Height','Weight']\n",
        "df=pd.DataFrame(info)\n",
        "print(df)\n",
        "print(\"...\")\n",
        "df"
      ],
      "metadata": {
        "colab": {
          "base_uri": "https://localhost:8080/",
          "height": 391
        },
        "id": "5o_WRZ3vmrFc",
        "outputId": "669e2a6f-2f93-4df3-c5ad-5da8324d2d38"
      },
      "execution_count": 40,
      "outputs": [
        {
          "output_type": "stream",
          "name": "stdout",
          "text": [
            "          0\n",
            "0    Rollno\n",
            "1      Name\n",
            "2       Age\n",
            "3  Semester\n",
            "4    Height\n",
            "5    Weight\n",
            "...\n"
          ]
        },
        {
          "output_type": "execute_result",
          "data": {
            "text/plain": [
              "          0\n",
              "0    Rollno\n",
              "1      Name\n",
              "2       Age\n",
              "3  Semester\n",
              "4    Height\n",
              "5    Weight"
            ],
            "text/html": [
              "\n",
              "  <div id=\"df-e5576e00-5ac2-41dd-b631-f9866ffd8e42\">\n",
              "    <div class=\"colab-df-container\">\n",
              "      <div>\n",
              "<style scoped>\n",
              "    .dataframe tbody tr th:only-of-type {\n",
              "        vertical-align: middle;\n",
              "    }\n",
              "\n",
              "    .dataframe tbody tr th {\n",
              "        vertical-align: top;\n",
              "    }\n",
              "\n",
              "    .dataframe thead th {\n",
              "        text-align: right;\n",
              "    }\n",
              "</style>\n",
              "<table border=\"1\" class=\"dataframe\">\n",
              "  <thead>\n",
              "    <tr style=\"text-align: right;\">\n",
              "      <th></th>\n",
              "      <th>0</th>\n",
              "    </tr>\n",
              "  </thead>\n",
              "  <tbody>\n",
              "    <tr>\n",
              "      <th>0</th>\n",
              "      <td>Rollno</td>\n",
              "    </tr>\n",
              "    <tr>\n",
              "      <th>1</th>\n",
              "      <td>Name</td>\n",
              "    </tr>\n",
              "    <tr>\n",
              "      <th>2</th>\n",
              "      <td>Age</td>\n",
              "    </tr>\n",
              "    <tr>\n",
              "      <th>3</th>\n",
              "      <td>Semester</td>\n",
              "    </tr>\n",
              "    <tr>\n",
              "      <th>4</th>\n",
              "      <td>Height</td>\n",
              "    </tr>\n",
              "    <tr>\n",
              "      <th>5</th>\n",
              "      <td>Weight</td>\n",
              "    </tr>\n",
              "  </tbody>\n",
              "</table>\n",
              "</div>\n",
              "      <button class=\"colab-df-convert\" onclick=\"convertToInteractive('df-e5576e00-5ac2-41dd-b631-f9866ffd8e42')\"\n",
              "              title=\"Convert this dataframe to an interactive table.\"\n",
              "              style=\"display:none;\">\n",
              "        \n",
              "  <svg xmlns=\"http://www.w3.org/2000/svg\" height=\"24px\"viewBox=\"0 0 24 24\"\n",
              "       width=\"24px\">\n",
              "    <path d=\"M0 0h24v24H0V0z\" fill=\"none\"/>\n",
              "    <path d=\"M18.56 5.44l.94 2.06.94-2.06 2.06-.94-2.06-.94-.94-2.06-.94 2.06-2.06.94zm-11 1L8.5 8.5l.94-2.06 2.06-.94-2.06-.94L8.5 2.5l-.94 2.06-2.06.94zm10 10l.94 2.06.94-2.06 2.06-.94-2.06-.94-.94-2.06-.94 2.06-2.06.94z\"/><path d=\"M17.41 7.96l-1.37-1.37c-.4-.4-.92-.59-1.43-.59-.52 0-1.04.2-1.43.59L10.3 9.45l-7.72 7.72c-.78.78-.78 2.05 0 2.83L4 21.41c.39.39.9.59 1.41.59.51 0 1.02-.2 1.41-.59l7.78-7.78 2.81-2.81c.8-.78.8-2.07 0-2.86zM5.41 20L4 18.59l7.72-7.72 1.47 1.35L5.41 20z\"/>\n",
              "  </svg>\n",
              "      </button>\n",
              "      \n",
              "  <style>\n",
              "    .colab-df-container {\n",
              "      display:flex;\n",
              "      flex-wrap:wrap;\n",
              "      gap: 12px;\n",
              "    }\n",
              "\n",
              "    .colab-df-convert {\n",
              "      background-color: #E8F0FE;\n",
              "      border: none;\n",
              "      border-radius: 50%;\n",
              "      cursor: pointer;\n",
              "      display: none;\n",
              "      fill: #1967D2;\n",
              "      height: 32px;\n",
              "      padding: 0 0 0 0;\n",
              "      width: 32px;\n",
              "    }\n",
              "\n",
              "    .colab-df-convert:hover {\n",
              "      background-color: #E2EBFA;\n",
              "      box-shadow: 0px 1px 2px rgba(60, 64, 67, 0.3), 0px 1px 3px 1px rgba(60, 64, 67, 0.15);\n",
              "      fill: #174EA6;\n",
              "    }\n",
              "\n",
              "    [theme=dark] .colab-df-convert {\n",
              "      background-color: #3B4455;\n",
              "      fill: #D2E3FC;\n",
              "    }\n",
              "\n",
              "    [theme=dark] .colab-df-convert:hover {\n",
              "      background-color: #434B5C;\n",
              "      box-shadow: 0px 1px 3px 1px rgba(0, 0, 0, 0.15);\n",
              "      filter: drop-shadow(0px 1px 2px rgba(0, 0, 0, 0.3));\n",
              "      fill: #FFFFFF;\n",
              "    }\n",
              "  </style>\n",
              "\n",
              "      <script>\n",
              "        const buttonEl =\n",
              "          document.querySelector('#df-e5576e00-5ac2-41dd-b631-f9866ffd8e42 button.colab-df-convert');\n",
              "        buttonEl.style.display =\n",
              "          google.colab.kernel.accessAllowed ? 'block' : 'none';\n",
              "\n",
              "        async function convertToInteractive(key) {\n",
              "          const element = document.querySelector('#df-e5576e00-5ac2-41dd-b631-f9866ffd8e42');\n",
              "          const dataTable =\n",
              "            await google.colab.kernel.invokeFunction('convertToInteractive',\n",
              "                                                     [key], {});\n",
              "          if (!dataTable) return;\n",
              "\n",
              "          const docLinkHtml = 'Like what you see? Visit the ' +\n",
              "            '<a target=\"_blank\" href=https://colab.research.google.com/notebooks/data_table.ipynb>data table notebook</a>'\n",
              "            + ' to learn more about interactive tables.';\n",
              "          element.innerHTML = '';\n",
              "          dataTable['output_type'] = 'display_data';\n",
              "          await google.colab.output.renderOutput(dataTable, element);\n",
              "          const docLink = document.createElement('div');\n",
              "          docLink.innerHTML = docLinkHtml;\n",
              "          element.appendChild(docLink);\n",
              "        }\n",
              "      </script>\n",
              "    </div>\n",
              "  </div>\n",
              "  "
            ]
          },
          "metadata": {},
          "execution_count": 40
        }
      ]
    },
    {
      "cell_type": "code",
      "source": [],
      "metadata": {
        "id": "1vaYo19GmuVz"
      },
      "execution_count": null,
      "outputs": []
    }
  ]
}