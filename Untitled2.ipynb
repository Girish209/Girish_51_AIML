{
  "cells": [
    {
      "cell_type": "markdown",
      "metadata": {
        "id": "view-in-github",
        "colab_type": "text"
      },
      "source": [
        "<a href=\"https://colab.research.google.com/github/Girish209/Girish_51_AIML/blob/main/Untitled2.ipynb\" target=\"_parent\"><img src=\"https://colab.research.google.com/assets/colab-badge.svg\" alt=\"Open In Colab\"/></a>"
      ]
    },
    {
      "cell_type": "code",
      "source": [
        "#write a python program the base class contains addition of 2 nos but the derived class contains mul of same nos\n",
        "class a():\n",
        "  def sum(self,a,b):\n",
        "    return a+b\n",
        "class b(a):\n",
        "  def mul(self,a,b):\n",
        "    return a*b\n",
        "d=b()\n",
        "a=int(input(\"Enter 1st number..\"))\n",
        "b=int(input(\"Enter 2nd number..\"))\n",
        "print(d.sum(a,b))\n",
        "print(d.mul(a,b))"
      ],
      "metadata": {
        "colab": {
          "base_uri": "https://localhost:8080/"
        },
        "id": "ARLoeIPZp5Fm",
        "outputId": "87d5f3e6-bbca-497c-8769-b3448db2b48e"
      },
      "execution_count": 3,
      "outputs": [
        {
          "output_type": "stream",
          "name": "stdout",
          "text": [
            "Enter 1st number..2\n",
            "Enter 2nd number..3\n",
            "5\n",
            "6\n"
          ]
        }
      ]
    },
    {
      "cell_type": "code",
      "source": [
        "#write a python program using the multilevel inhritance to develop a calculator which contains 4 derived of derived class and only one child class\n",
        "class a():\n",
        "  def sum(self,a,b):\n",
        "    return a+b\n",
        "class b(a):\n",
        "  def sub(self,a,b):\n",
        "    return a-b\n",
        "class c(b):\n",
        "  def mul(self,a,b):\n",
        "    return a*b\n",
        "class d(c):\n",
        "  def div(self,a,b):\n",
        "    return a/b\n",
        "class e(d):\n",
        "  def rem(self,a,b):\n",
        "    return a%b\n",
        "x=e()\n",
        "a=int(input(\"Enter 1st number..\"))\n",
        "b=int(input(\"Enter 2nd number..\"))\n",
        "ch=int(input(\"Enter the choice..\"))\n",
        "print(x.sum(a,b))\n",
        "print(x.sub(a,b))\n",
        "print(x.mul(a,b))\n",
        "print(x.div(a,b))\n",
        "print(x.rem(a,b))"
      ],
      "metadata": {
        "colab": {
          "base_uri": "https://localhost:8080/"
        },
        "id": "bNJ7RyBKuRpr",
        "outputId": "3b98247f-dc49-4147-c1c5-5866b3055d03"
      },
      "execution_count": 5,
      "outputs": [
        {
          "output_type": "stream",
          "name": "stdout",
          "text": [
            "Enter 1st number..2\n",
            "Enter 2nd number..3\n",
            "Enter the choice..1\n",
            "5\n",
            "-1\n",
            "6\n",
            "0.6666666666666666\n",
            "2\n"
          ]
        }
      ]
    },
    {
      "cell_type": "code",
      "source": [
        "#write a python program using the multiple inhritance to develop a calculator which contains 4 derived of derived class and only one child class\n",
        "class a():\n",
        "  def sum(self,a,b):\n",
        "    return a+b\n",
        "class b():\n",
        "  def sub(self,a,b):\n",
        "    return a-b\n",
        "class c():\n",
        "  def mul(self,a,b):\n",
        "    return a*b\n",
        "class d():\n",
        "  def div(self,a,b):\n",
        "    return a/b\n",
        "class e(a,b,c,d):\n",
        "  def rem(self,a,b):\n",
        "    return a%b\n",
        "x=e()\n",
        "a=int(input(\"Enter 1st number..\"))\n",
        "b=int(input(\"Enter 2nd number..\"))\n",
        "print(x.sum(a,b))\n",
        "print(x.sub(a,b))\n",
        "print(x.mul(a,b))\n",
        "print(x.div(a,b))\n",
        "print(x.rem(a,b))"
      ],
      "metadata": {
        "colab": {
          "base_uri": "https://localhost:8080/"
        },
        "id": "pY1buvdv2NmN",
        "outputId": "c207d3d4-2b5b-4852-e502-57166075f7f1"
      },
      "execution_count": 7,
      "outputs": [
        {
          "output_type": "stream",
          "name": "stdout",
          "text": [
            "Enter 1st number..2\n",
            "Enter 2nd number..3\n",
            "5\n",
            "-1\n",
            "6\n",
            "0.6666666666666666\n",
            "2\n"
          ]
        }
      ]
    },
    {
      "cell_type": "code",
      "source": [
        "import numpy as np\n",
        "list=[10,20,30,40,50]\n",
        "arr=np.array(list)\n",
        "print(arr.size)\n",
        "print(arr.dtype)\n",
        "print(arr.ndim)\n",
        "print(arr.shape)"
      ],
      "metadata": {
        "colab": {
          "base_uri": "https://localhost:8080/"
        },
        "id": "KqP7ns1A2gMQ",
        "outputId": "c277c643-39fc-4769-b747-cc4940fa8b2f"
      },
      "execution_count": 11,
      "outputs": [
        {
          "output_type": "stream",
          "name": "stdout",
          "text": [
            "5\n",
            "int64\n",
            "1\n",
            "(5,)\n"
          ]
        }
      ]
    },
    {
      "cell_type": "code",
      "source": [
        "import numpy as np\n",
        "list=[[10,20,30],[40,50,60]]\n",
        "arr=np.array(list)\n",
        "print(arr[1][1])"
      ],
      "metadata": {
        "colab": {
          "base_uri": "https://localhost:8080/"
        },
        "id": "uI8_cJ5Q4sKM",
        "outputId": "4f07d8ce-5c46-4457-f6a6-ef7d3ce9468d"
      },
      "execution_count": 15,
      "outputs": [
        {
          "output_type": "stream",
          "name": "stdout",
          "text": [
            "50\n"
          ]
        }
      ]
    },
    {
      "cell_type": "code",
      "source": [
        "import numpy as np\n",
        "list=[[10,20,30],[40,50,60],[70,80,90]]\n",
        "arr=np.array(list)\n",
        "print(arr)"
      ],
      "metadata": {
        "colab": {
          "base_uri": "https://localhost:8080/"
        },
        "id": "_m6i_KZt8TUV",
        "outputId": "2c7a4b2c-3e34-41be-e971-f81b2318b553"
      },
      "execution_count": 16,
      "outputs": [
        {
          "output_type": "stream",
          "name": "stdout",
          "text": [
            "[[10 20 30]\n",
            " [40 50 60]\n",
            " [70 80 90]]\n"
          ]
        }
      ]
    },
    {
      "cell_type": "code",
      "source": [
        "import numpy as np\n",
        "ndArray=np.array([1,2,3,4],ndmin=6)\n",
        "print(ndArray)\n",
        "print(ndArray.ndim)"
      ],
      "metadata": {
        "id": "fbrbdmOU_B5V",
        "outputId": "01527f6d-ecba-4f91-d1fd-6764ae4dca68",
        "colab": {
          "base_uri": "https://localhost:8080/"
        }
      },
      "execution_count": 19,
      "outputs": [
        {
          "output_type": "stream",
          "name": "stdout",
          "text": [
            "[[[[[[1 2 3 4]]]]]]\n",
            "6\n"
          ]
        }
      ]
    },
    {
      "cell_type": "code",
      "source": [
        "import numpy as np\n",
        "list=[10,20,30,40,50,60]\n",
        "arr=np.array(list)\n",
        "print('element')\n",
        "for ele in arr:\n",
        "  print(ele)"
      ],
      "metadata": {
        "id": "ZyrbL3lF_9DG",
        "outputId": "64c79a10-e3ec-479c-e4e0-c97bd56e9edc",
        "colab": {
          "base_uri": "https://localhost:8080/"
        }
      },
      "execution_count": 20,
      "outputs": [
        {
          "output_type": "stream",
          "name": "stdout",
          "text": [
            "element\n",
            "10\n",
            "20\n",
            "30\n",
            "40\n",
            "50\n",
            "60\n"
          ]
        }
      ]
    },
    {
      "cell_type": "code",
      "source": [],
      "metadata": {
        "id": "ndSVhP_jAg0p"
      },
      "execution_count": null,
      "outputs": []
    }
  ],
  "metadata": {
    "colab": {
      "provenance": [],
      "authorship_tag": "ABX9TyN84LHL2Y0yqBDGc2C4aqre",
      "include_colab_link": true
    },
    "kernelspec": {
      "display_name": "Python 3",
      "name": "python3"
    },
    "language_info": {
      "name": "python"
    }
  },
  "nbformat": 4,
  "nbformat_minor": 0
}