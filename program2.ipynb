{
  "nbformat": 4,
  "nbformat_minor": 0,
  "metadata": {
    "colab": {
      "provenance": [],
      "authorship_tag": "ABX9TyMDUqaxiw0ZhIoEVM4yMIWd",
      "include_colab_link": true
    },
    "kernelspec": {
      "name": "python3",
      "display_name": "Python 3"
    },
    "language_info": {
      "name": "python"
    }
  },
  "cells": [
    {
      "cell_type": "markdown",
      "metadata": {
        "id": "view-in-github",
        "colab_type": "text"
      },
      "source": [
        "<a href=\"https://colab.research.google.com/github/Girish209/Girish_51_AIML/blob/main/program2.ipynb\" target=\"_parent\"><img src=\"https://colab.research.google.com/assets/colab-badge.svg\" alt=\"Open In Colab\"/></a>"
      ]
    },
    {
      "cell_type": "code",
      "execution_count": null,
      "metadata": {
        "id": "FcOm8TMqTY4Y"
      },
      "outputs": [],
      "source": []
    },
    {
      "cell_type": "code",
      "source": [
        "n=int(input(\"Enter the number..\"))\n",
        "sum=0\n",
        "for i in range(1,n+1):\n",
        "  sum=sum+i\n",
        "print(sum)\n"
      ],
      "metadata": {
        "colab": {
          "base_uri": "https://localhost:8080/",
          "height": 0
        },
        "id": "GDLNQcqeUgLg",
        "outputId": "b624b1b1-1ee6-4504-ae42-27602083e031"
      },
      "execution_count": 1,
      "outputs": [
        {
          "output_type": "stream",
          "name": "stdout",
          "text": [
            "Enter the number..4\n",
            "10\n"
          ]
        }
      ]
    },
    {
      "cell_type": "code",
      "source": [
        "n=int(input(\"Enter the number..\"))\n",
        "sum=0\n",
        "for i in range(1,n+1,2):\n",
        "  sum=sum+i\n",
        "print(sum)\n"
      ],
      "metadata": {
        "colab": {
          "base_uri": "https://localhost:8080/",
          "height": 0
        },
        "id": "HHErOw_6WbBT",
        "outputId": "0e56f2ab-0a1b-444f-f963-86cabbcdd72b"
      },
      "execution_count": 2,
      "outputs": [
        {
          "output_type": "stream",
          "name": "stdout",
          "text": [
            "Enter the number..8\n",
            "16\n"
          ]
        }
      ]
    },
    {
      "cell_type": "code",
      "source": [
        "n=int(input(\"Enter the number..\"))\n",
        "sum=0\n",
        "for i in range(2,n+1,2):\n",
        "  sum=sum+i\n",
        "print(sum)\n"
      ],
      "metadata": {
        "colab": {
          "base_uri": "https://localhost:8080/",
          "height": 0
        },
        "id": "m6Ka4_5oWomB",
        "outputId": "f2e2808c-9656-40f0-ef42-ee20672d4eb7"
      },
      "execution_count": 3,
      "outputs": [
        {
          "output_type": "stream",
          "name": "stdout",
          "text": [
            "Enter the number..8\n",
            "20\n"
          ]
        }
      ]
    },
    {
      "cell_type": "code",
      "source": [
        "n=int(input(\"Enter the number..\"))\n",
        "sum=0\n",
        "for i in range(1,n+1):\n",
        "  d=i*i\n",
        "  sum=sum+d\n",
        "print(sum)\n"
      ],
      "metadata": {
        "colab": {
          "base_uri": "https://localhost:8080/"
        },
        "id": "lNmzAjV4Wvsd",
        "outputId": "d64b5a1d-a341-4c78-8a6c-f03bbdd9e952"
      },
      "execution_count": 11,
      "outputs": [
        {
          "output_type": "stream",
          "name": "stdout",
          "text": [
            "Enter the number..4\n",
            "30\n"
          ]
        }
      ]
    },
    {
      "cell_type": "code",
      "source": [
        "n=int(input(\"Enter the number..\"))\n",
        "sum=0\n",
        "for i in range(1,n+1,2):\n",
        "  d=i*i\n",
        "  sum=sum+d\n",
        "print(sum)\n"
      ],
      "metadata": {
        "colab": {
          "base_uri": "https://localhost:8080/",
          "height": 0
        },
        "id": "CxiAKMPiXDYN",
        "outputId": "f3e2892a-db82-4cf7-ca68-82d8c383decc"
      },
      "execution_count": 6,
      "outputs": [
        {
          "output_type": "stream",
          "name": "stdout",
          "text": [
            "Enter the number..3\n",
            "10\n"
          ]
        }
      ]
    },
    {
      "cell_type": "code",
      "source": [
        "n=int(input(\"Enter the number..\"))\n",
        "sum=0\n",
        "for i in range(2,n+1,2):\n",
        "  d=i*i\n",
        "  sum=sum+d\n",
        "print(sum)\n"
      ],
      "metadata": {
        "colab": {
          "base_uri": "https://localhost:8080/",
          "height": 0
        },
        "id": "rf8MMDfLXOxV",
        "outputId": "4650ba00-a857-431f-dcea-067161dfd29e"
      },
      "execution_count": 8,
      "outputs": [
        {
          "output_type": "stream",
          "name": "stdout",
          "text": [
            "Enter the number..4\n",
            "20\n"
          ]
        }
      ]
    },
    {
      "cell_type": "code",
      "source": [
        "n=int(input(\"Enter the number..\"))\n",
        "r=int(input(\"Enter th power..\"))\n",
        "sum=0\n",
        "for i in range(1,n+1):\n",
        "  res=1\n",
        "  for j in range(1,r+1):\n",
        "    res=res*i\n",
        "    \n",
        "\n",
        "\n",
        "  sum=sum+res\n",
        "print(sum)\n"
      ],
      "metadata": {
        "colab": {
          "base_uri": "https://localhost:8080/"
        },
        "id": "fxlYAIv-Xa_m",
        "outputId": "64e895d7-28a5-4f96-e25f-fb216a926c27"
      },
      "execution_count": 16,
      "outputs": [
        {
          "output_type": "stream",
          "name": "stdout",
          "text": [
            "Enter the number..4\n",
            "Enter th power..2\n",
            "30\n"
          ]
        }
      ]
    },
    {
      "cell_type": "code",
      "source": [
        "n=int(input(\"Enter the number..\"))\n",
        "r=int(input(\"Enter th power..\"))\n",
        "sum=0\n",
        "for i in range(1,n+1,2):\n",
        "  res=1\n",
        "  for j in range(1,r+1):\n",
        "    res=res*i\n",
        "\n",
        "  sum=sum+res\n",
        "print(sum)\n"
      ],
      "metadata": {
        "colab": {
          "base_uri": "https://localhost:8080/"
        },
        "id": "1y5NwU_gYg0T",
        "outputId": "199e614a-d9b9-44f0-ce02-9655c72ae47e"
      },
      "execution_count": 13,
      "outputs": [
        {
          "output_type": "stream",
          "name": "stdout",
          "text": [
            "Enter the number..3\n",
            "Enter th power..2\n",
            "10\n"
          ]
        }
      ]
    },
    {
      "cell_type": "code",
      "source": [
        "n=int(input(\"Enter the number..\"))\n",
        "r=int(input(\"Enter th power..\"))\n",
        "sum=0\n",
        "for i in range(2,n+1,2):\n",
        "  j=1\n",
        "  res=1\n",
        "  for j in range(1,r+1):\n",
        "    res=res*i\n",
        "\n",
        "  sum=sum+res\n",
        "print(sum)\n"
      ],
      "metadata": {
        "colab": {
          "base_uri": "https://localhost:8080/"
        },
        "id": "3XKqtUR5YsxM",
        "outputId": "6379ed74-f403-4526-e2cf-238440bbb581"
      },
      "execution_count": 17,
      "outputs": [
        {
          "output_type": "stream",
          "name": "stdout",
          "text": [
            "Enter the number..4\n",
            "Enter th power..2\n",
            "20\n"
          ]
        }
      ]
    },
    {
      "cell_type": "code",
      "source": [
        "def fact(n):\n",
        "  f=1\n",
        "  for i in range(1,n+1):\n",
        "    f=f*i;\n",
        "  return f\n",
        "n=int(input(\"Enter the number..\"))\n",
        "sum=0\n",
        "for i in range(1,n+1):\n",
        "  sum=sum+fact(i)\n",
        "print(sum)\n"
      ],
      "metadata": {
        "colab": {
          "base_uri": "https://localhost:8080/"
        },
        "id": "-dQFz8JEZdWB",
        "outputId": "acd051ba-30ac-4331-d9a0-ebabbc1cb9c7"
      },
      "execution_count": 18,
      "outputs": [
        {
          "output_type": "stream",
          "name": "stdout",
          "text": [
            "Enter the number..3\n",
            "9\n"
          ]
        }
      ]
    },
    {
      "cell_type": "code",
      "source": [
        "def fact(n):\n",
        "  f=1\n",
        "  for i in range(1,n+1):\n",
        "    f=f*i;\n",
        "  return f\n",
        "n=int(input(\"Enter the number..\"))\n",
        "sum=0\n",
        "for i in range(1,n+1,2):\n",
        "  sum=sum+fact(i)\n",
        "print(sum)\n"
      ],
      "metadata": {
        "colab": {
          "base_uri": "https://localhost:8080/"
        },
        "id": "rOxVRx1IaSjR",
        "outputId": "abaa88df-e7cf-4746-8996-c25d5730886d"
      },
      "execution_count": 19,
      "outputs": [
        {
          "output_type": "stream",
          "name": "stdout",
          "text": [
            "Enter the number..4\n",
            "7\n"
          ]
        }
      ]
    },
    {
      "cell_type": "code",
      "source": [
        "def fact(n):\n",
        "  f=1\n",
        "  for i in range(1,n+1):\n",
        "    f=f*i;\n",
        "  return f\n",
        "n=int(input(\"Enter the number..\"))\n",
        "sum=0\n",
        "for i in range(2,n+1,2):\n",
        "  sum=sum+fact(i)\n",
        "print(sum)\n"
      ],
      "metadata": {
        "colab": {
          "base_uri": "https://localhost:8080/"
        },
        "id": "jf_XjibRab1e",
        "outputId": "f208c492-1d28-4cf6-a768-e3b71e71b80d"
      },
      "execution_count": 20,
      "outputs": [
        {
          "output_type": "stream",
          "name": "stdout",
          "text": [
            "Enter the number..4\n",
            "26\n"
          ]
        }
      ]
    }
  ]
}