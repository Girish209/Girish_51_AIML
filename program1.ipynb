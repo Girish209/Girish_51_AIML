{
  "nbformat": 4,
  "nbformat_minor": 0,
  "metadata": {
    "colab": {
      "provenance": [],
      "authorship_tag": "ABX9TyO++tDpuJmh6aPhlxXSLoEn",
      "include_colab_link": true
    },
    "kernelspec": {
      "name": "python3",
      "display_name": "Python 3"
    },
    "language_info": {
      "name": "python"
    }
  },
  "cells": [
    {
      "cell_type": "markdown",
      "metadata": {
        "id": "view-in-github",
        "colab_type": "text"
      },
      "source": [
        "<a href=\"https://colab.research.google.com/github/Girish209/Girish_51_AIML/blob/main/program1.ipynb\" target=\"_parent\"><img src=\"https://colab.research.google.com/assets/colab-badge.svg\" alt=\"Open In Colab\"/></a>"
      ]
    },
    {
      "cell_type": "code",
      "execution_count": null,
      "metadata": {
        "id": "yc0QrpsLUWqv"
      },
      "outputs": [],
      "source": []
    },
    {
      "cell_type": "code",
      "source": [
        "a=int(input(\"enter radius of circle...\"))\n",
        "area=3.141*a*a;\n",
        "per=2*3.141*1;\n",
        "print(\"area=\",area);\n",
        "print(\"perimeter=\",per);"
      ],
      "metadata": {
        "colab": {
          "base_uri": "https://localhost:8080/"
        },
        "id": "Lnqalzi5U9u_",
        "outputId": "d7b8a805-300f-4290-9273-af7334b5b52d"
      },
      "execution_count": 2,
      "outputs": [
        {
          "output_type": "stream",
          "name": "stdout",
          "text": [
            "enter radius of circle...1\n",
            "area= 3.141\n",
            "perimeter= 6.282\n"
          ]
        }
      ]
    },
    {
      "cell_type": "code",
      "source": [
        "a=int(input(\"Enter the kilometer value...\"))\n",
        "b=int(input(\"Enter 1 for cm, 2 for meter , 3 for milimeter...\"))\n",
        "if(b>0 and b<=3):\n",
        "    if(b==1):\n",
        "        c=a*100000;\n",
        "    elif(b==2):\n",
        "        c=a*1000;\n",
        "    else:\n",
        "        c=a*1000000;\n",
        "else:\n",
        "    print(\"Enter a valid no.\");\n",
        "print(c);"
      ],
      "metadata": {
        "colab": {
          "base_uri": "https://localhost:8080/"
        },
        "id": "u7ERfyDPXhwq",
        "outputId": "5d62b621-6dd6-4753-da70-e3d8e73d19c9"
      },
      "execution_count": 6,
      "outputs": [
        {
          "output_type": "stream",
          "name": "stdout",
          "text": [
            "Enter the kilometer value...1\n",
            "Enter 1 for cm, 2 for meter , 3 for milimeter...1\n",
            "100000\n"
          ]
        }
      ]
    },
    {
      "cell_type": "code",
      "source": [
        "import math\n",
        "a=int(input(\"Enter first value...\"))\n",
        "b=int(input(\"Enter second value...\"))\n",
        "at=[a,b];\n",
        "s=sum(at)\n",
        "print(s3)"
      ],
      "metadata": {
        "colab": {
          "base_uri": "https://localhost:8080/"
        },
        "id": "vUbqGe1yZXcl",
        "outputId": "f164be24-f54e-4d04-d67d-d7f58a66a11f"
      },
      "execution_count": 9,
      "outputs": [
        {
          "output_type": "stream",
          "name": "stdout",
          "text": [
            "Enter first value...1\n",
            "Enter second value...3\n",
            "4\n"
          ]
        }
      ]
    },
    {
      "cell_type": "code",
      "source": [
        "import math\n",
        "a=int(input(\"Enter first value...\"))\n",
        "b=int(input(\"Enter second value...\"))\n",
        "s=math.fmod(a,b);\n",
        "print(s)"
      ],
      "metadata": {
        "colab": {
          "base_uri": "https://localhost:8080/"
        },
        "id": "Uw8YjdeSa5g9",
        "outputId": "32dc4d83-97ef-4c61-f1c4-d7fe9baea985"
      },
      "execution_count": 12,
      "outputs": [
        {
          "output_type": "stream",
          "name": "stdout",
          "text": [
            "Enter first value...3\n",
            "Enter second value...2\n",
            "1.0\n"
          ]
        }
      ]
    },
    {
      "cell_type": "code",
      "source": [],
      "metadata": {
        "id": "MmEvbWEpbd15"
      },
      "execution_count": null,
      "outputs": []
    }
  ]
}